{
 "cells": [
  {
   "cell_type": "markdown",
   "metadata": {},
   "source": [
    "# LINEAR FITTING"
   ]
  },
  {
   "cell_type": "markdown",
   "metadata": {},
   "source": [
    "#####  All algorithms were designed by Hyungjoo Kim and Dataset was provided at UCL"
   ]
  },
  {
   "cell_type": "code",
   "execution_count": 50,
   "metadata": {},
   "outputs": [],
   "source": [
    "import numpy as np\n",
    "import matplotlib.pyplot as plt"
   ]
  },
  {
   "cell_type": "code",
   "execution_count": 51,
   "metadata": {},
   "outputs": [],
   "source": [
    "# Class\n",
    "# Iris Setosa for label 0, Iris Versicolour label 1, Iris Virginica for label 2\n",
    "train_label = np.load('./IRIS/iris_train_labels.npy') # [2 1 1 0 2 2 2 0 1...] (96,)\n",
    "train_samp = np.load('./IRIS/iris_train_samples.npy') # (96,4) sepal length, sepal width, petal length, petal width\n",
    "val_label = np.load('./IRIS/iris_val_labels.npy')\n",
    "val_samp = np.load('./IRIS/iris_val_samples.npy')\n",
    "\n",
    "MNIST_train_label = np.load('./MNIST/mnist_train_labels.npy')\n",
    "MNIST_train_samp = np.load('./MNIST/mnist_train_samples.npy')  # (44800, 28*28)\n",
    "MNIST_val_label = np.load('./MNIST/mnist_val_labels.npy')\n",
    "MNIST_val_samp = np.load('./MNIST/mnist_val_samples.npy')"
   ]
  },
  {
   "cell_type": "markdown",
   "metadata": {},
   "source": [
    "**Task 1: Implement the normal equation solver function nsolve, which takes as input the matrix x and the target vector y and returns the optimized weights w.**"
   ]
  },
  {
   "cell_type": "code",
   "execution_count": 52,
   "metadata": {},
   "outputs": [],
   "source": [
    "def normal_solver(X, y):\n",
    "    if y.ndim == 1:\n",
    "        y = np.transpose(y[np.newaxis])\n",
    "        \n",
    "    Xt = X.T\n",
    "    Xtx = np.matmul(Xt, X)\n",
    "    Xty = np.matmul(Xt, y)\n",
    "    optimised_w = np.matmul(inv(Xtx), Xty)\n",
    "    return optimised_w"
   ]
  },
  {
   "cell_type": "code",
   "execution_count": 53,
   "metadata": {},
   "outputs": [
    {
     "data": {
      "image/png": "[encoded data removed]",
      "text/plain": [
       "<Figure size 432x288 with 1 Axes>"
      ]
     },
     "metadata": {
      "needs_background": "light"
     },
     "output_type": "display_data"
    }
   ],
   "source": [
    "# Check the normal_sovler class is correct or not\n",
    "X = np.array([0, 1, 2, 3])\n",
    "y = np.array([-1.5, 0.1, 0.8, 2.4])\n",
    "A = np.vstack([X, np.ones(len(X))]).T\n",
    "\n",
    "gradient, bias = np.linalg.lstsq(A, y, rcond = None)[0]\n",
    "k = plt.plot(X, y, 'o', label = 'Original_data', markersize = 5)\n",
    "k = plt.plot(X, gradient*X + bias, 'r', label = 'Fitted_line')\n",
    "k = plt.legend()\n",
    "plt.show()"
   ]
  },
  {
   "cell_type": "markdown",
   "metadata": {},
   "source": [
    "**Task 2: Implement lineFit(X,y) which should fit a linear function to the input data. Test your implementation on the following task: predict with linear fitting the petal length (cm) of the Iris dataset using the three remaining variables as inputs (sepal length (cm), sepal width (cm) and petal width (cm)). Report the L2 loss on the validation set and plot a graph showing the correlation between y and your prediction on the validation set.**"
   ]
  },
  {
   "cell_type": "code",
   "execution_count": 54,
   "metadata": {},
   "outputs": [],
   "source": [
    "def Line_Fit(X, y):\n",
    "    sepal_length = X[:, 0]\n",
    "    sepal_width = X[:, 1]\n",
    "    petal_width = X[:, 3]\n",
    "    \n",
    "    A = np.vstack([sepal_length, sepal_width, petal_width, np.ones(len(sepal_length))]).T\n",
    "    w = normal_solver(A, y)\n",
    "    estimated_y = np.squeeze(np.matmul(A, w))\n",
    "    return estimated_y, w"
   ]
  },
  {
   "cell_type": "code",
   "execution_count": 55,
   "metadata": {},
   "outputs": [
    {
     "name": "stdout",
     "output_type": "stream",
     "text": [
      "L2 loss on the validation set is 2.2200391848040555\n"
     ]
    }
   ],
   "source": [
    "petal_length = train_samp[:, 2]\n",
    "estimated_petal_length, w_train = Line_Fit(train_samp, petal_length)\n",
    "\n",
    "sepal_length_val = val_samp[:, 0]\n",
    "sepal_width_val = val_samp[:, 1]\n",
    "petal_length_val = val_samp[:, 2]\n",
    "petal_width_val = val_samp[:, 3]\n",
    "\n",
    "A1_val = np.vstack([sepal_length_val, sepal_width_val, petal_width_val, np.ones(len(sepal_length_val))]).T\n",
    "estimated_petal_length_val = np.squeeze(np.matmul(A1_val, w_train))\n",
    "\n",
    "# L2 loss function\n",
    "L2_loss = np.sum((petal_length_val - estimated_petal_length_val)**2)\n",
    "print(\"L2 loss on the validation set is\", L2_loss)"
   ]
  },
  {
   "cell_type": "code",
   "execution_count": 56,
   "metadata": {},
   "outputs": [
    {
     "name": "stdout",
     "output_type": "stream",
     "text": [
      "Correlation coefficient between the ground truth and estimated petal length is 0.9832465501836546\n"
     ]
    },
    {
     "data": {
      "image/png": "[encoded data removed]",
      "text/plain": [
       "<Figure size 432x288 with 1 Axes>"
      ]
     },
     "metadata": {
      "needs_background": "light"
     },
     "output_type": "display_data"
    }
   ],
   "source": [
    "# Plot a graph showing the correlation between the ground truth and estimated values on the validation set\n",
    "plt.scatter(estimated_petal_length_val, petal_length_val, color = 'red')\n",
    "plt.xlabel(\"Estimated petal length (cm)\")\n",
    "plt.ylabel(\"Ground truth petal length (cm)\")\n",
    "correlation_coeff = np.corrcoef(estimated_petal_length_val, petal_length_val)\n",
    "print(\"Correlation coefficient between the ground truth and estimated petal length is\", correlation_coeff[0, 1])\n",
    "plt.show()"
   ]
  },
  {
   "cell_type": "markdown",
   "metadata": {},
   "source": [
    "**Task 3: Implement polyFit(X,y) which should fit a 2nd degree polynomial to the input data. Test your\n",
    "implementation on the following task: predict with the polynomial the petal width (cm) of the Iris\n",
    "dataset using the three remaining variables as inputs (sepal length (cm), sepal width (cm), petal length\n",
    "(cm), petal width (cm)). The 2nd degree polynomial should consider all possible pairwise terms, i.e.\n",
    "w1x\n",
    "2 + w2xy + w3y\n",
    "2 + w4x + w5y + w6 in the case of two input variables x and y. Report the L2 loss\n",
    "on the validation set and plot a graph showing the correlation between y and your prediction on the\n",
    "validation set.**"
   ]
  },
  {
   "cell_type": "code",
   "execution_count": 57,
   "metadata": {},
   "outputs": [],
   "source": [
    "def Poly_Fit(X, y):\n",
    "    x1 = X[:, 0]   # sepal_length\n",
    "    x2 = X[:, 1]   # sepal_width\n",
    "    x3 = X[:, 2]   # petal_length\n",
    "    x1x1 = x1 * x1\n",
    "    x2x2 = x2 * x2\n",
    "    x3x3 = x3 * x3\n",
    "    x1x2 = x1 * x2\n",
    "    x2x3 = x2 * x3\n",
    "    x1x3 = x1 * x3\n",
    "    \n",
    "    A = np.vstack([x1x1, x2x2, x3x3, x1x2, x2x3, x1x3, x1, x2, x3, np.ones(len(x1))]).T\n",
    "    w = normal_solver(A, y)\n",
    "    estimated_y = np.squeeze(np.matmul(A, w))\n",
    "    return estimated_y, w"
   ]
  },
  {
   "cell_type": "code",
   "execution_count": 58,
   "metadata": {},
   "outputs": [
    {
     "name": "stdout",
     "output_type": "stream",
     "text": [
      "L2 loss on the validation set is 1.0387001152157072\n"
     ]
    }
   ],
   "source": [
    "# Set x, y and estimated parameters\n",
    "petal_width = train_samp[:, 3]\n",
    "estimated_petal_width, w_train = Poly_Fit(train_samp, petal_width)\n",
    "\n",
    "sepal_length_val = val_samp[:, 0]\n",
    "sepal_width_val = val_samp[:, 1]\n",
    "petal_length_val = val_samp[:, 2]\n",
    "petal_width_val = val_samp[:, 3]\n",
    "x1x1_val = sepal_length_val * sepal_length_val\n",
    "x2x2_val = sepal_width_val * sepal_width_val\n",
    "x3x3_val = petal_length_val * petal_length_val\n",
    "x1x2_val = sepal_length_val * sepal_width_val\n",
    "x2x3_val = sepal_width_val * petal_length_val\n",
    "x1x3_val = sepal_length_val * petal_length_val\n",
    "\n",
    "A_val = np.vstack([x1x1_val, x2x2_val, x3x3_val, x1x2_val, x2x3_val, x1x3_val,\n",
    "                   sepal_length_val, sepal_width_val, petal_length_val, np.ones(len(x1x1_val))]).T\n",
    "estimated_petal_width_val = np.squeeze(np.matmul(A_val, w_train))\n",
    "\n",
    "# L2 loss function\n",
    "L2_loss = np.sum((petal_width_val - estimated_petal_width_val)**2)\n",
    "print(\"L2 loss on the validation set is\", L2_loss)"
   ]
  },
  {
   "cell_type": "code",
   "execution_count": 59,
   "metadata": {},
   "outputs": [
    {
     "name": "stdout",
     "output_type": "stream",
     "text": [
      "Correlation coefficient between the ground truth and estimated petal width is 0.9630637111961595\n"
     ]
    },
    {
     "data": {
      "image/png": "[encoded data removed]",
      "text/plain": [
       "<Figure size 432x288 with 1 Axes>"
      ]
     },
     "metadata": {
      "needs_background": "light"
     },
     "output_type": "display_data"
    }
   ],
   "source": [
    "# Plot a graph showing the correlation between the ground truth and estimated values on the validation set\n",
    "plt.scatter(estimated_petal_width_val, petal_width_val, color = 'blue')\n",
    "plt.xlabel(\"Estimated petal width (cm)\")\n",
    "plt.ylabel(\"Ground truth petal width (cm)\")\n",
    "correlation_coeff = np.corrcoef(estimated_petal_width_val, petal_width_val)\n",
    "print(\"Correlation coefficient between the ground truth and estimated petal width is\", correlation_coeff[0, 1])\n",
    "plt.show()"
   ]
  },
  {
   "cell_type": "code",
   "execution_count": null,
   "metadata": {},
   "outputs": [],
   "source": []
  }
 ],
 "metadata": {
  "kernelspec": {
   "display_name": "Python 3",
   "language": "python",
   "name": "python3"
  },
  "language_info": {
   "codemirror_mode": {
    "name": "ipython",
    "version": 3
   },
   "file_extension": ".py",
   "mimetype": "text/x-python",
   "name": "python",
   "nbconvert_exporter": "python",
   "pygments_lexer": "ipython3",
   "version": "3.8.5"
  }
 },
 "nbformat": 4,
 "nbformat_minor": 4
}
