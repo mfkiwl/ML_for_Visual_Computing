{
 "cells": [
  {
   "cell_type": "markdown",
   "id": "9fe2e110",
   "metadata": {},
   "source": [
    "# NEURAL NETWORK"
   ]
  },
  {
   "cell_type": "markdown",
   "id": "94c2cd03",
   "metadata": {},
   "source": [
    "##### All algorithms were designed by Hyungjoo Kim and Dataset was provided by UCL"
   ]
  },
  {
   "cell_type": "code",
   "execution_count": 1,
   "id": "77700fc0",
   "metadata": {},
   "outputs": [],
   "source": [
    "import numpy as np\n",
    "import scipy\n",
    "import sklearn\n",
    "import matplotlib.pyplot as plt\n",
    "\n",
    "from numpy.linalg import inv\n",
    "from numpy.random import randn\n",
    "from sklearn import svm\n",
    "from sklearn import datasets as skdataset\n",
    "from sklearn.datasets import make_circles\n",
    "from sklearn.metrics import accuracy_score\n",
    "from sklearn.metrics import confusion_matrix\n",
    "from sklearn.model_selection import train_test_split"
   ]
  },
  {
   "cell_type": "code",
   "execution_count": 5,
   "id": "6246103e",
   "metadata": {},
   "outputs": [],
   "source": [
    "train_label = np.load('Data_IRIS&MNIST/IRIS/iris_train_labels.npy') # [2 1 1 0 2 2 2 0 1...] (96,)\n",
    "train_samp = np.load('Data_IRIS&MNIST/IRIS/iris_train_samples.npy') # (96,4) sepal length, sepal width, petal length, petal width.\n",
    "val_label = np.load('Data_IRIS&MNIST/IRIS/iris_val_labels.npy')\n",
    "val_samp = np.load('Data_IRIS&MNIST/IRIS/iris_val_samples.npy')\n",
    "# Class\n",
    "# Iris Setosa for label 0\n",
    "# Iris Versicolour label 1\n",
    "# Iris Virginica for label 2\n",
    "MNIST_train_label = np.load('Data_IRIS&MNIST/MNIST/mnist_train_labels.npy')\n",
    "MNIST_train_samp = np.load('Data_IRIS&MNIST/MNIST/mnist_train_samples.npy')  # (44800, 28*28)\n",
    "MNIST_val_label = np.load('Data_IRIS&MNIST/MNIST/mnist_val_labels.npy')\n",
    "MNIST_val_samp = np.load('Data_IRIS&MNIST/MNIST/mnist_val_samples.npy')"
   ]
  },
  {
   "cell_type": "markdown",
   "id": "e08d7479",
   "metadata": {},
   "source": [
    "**Task 1: Devise a three-layer neural network with n hidden states and sigmoid activation for classification. Exaplain how many parameters this has in one sentence.**"
   ]
  },
  {
   "cell_type": "markdown",
   "id": "90c8aa1f",
   "metadata": {},
   "source": [
    "**Answer:** This task requires 3 layers neural network with 3 hidden states (Whh, Whx and Why) and these states are used by **4 parameters that represent hh + (input_size * h) + (output_size * h).** "
   ]
  },
  {
   "cell_type": "markdown",
   "id": "71fe921c",
   "metadata": {},
   "source": [
    "**Task 2: Provide the equation for the gradient using chain rule for the network in point a).**"
   ]
  },
  {
   "cell_type": "code",
   "execution_count": 6,
   "id": "77d164d9",
   "metadata": {},
   "outputs": [],
   "source": [
    "h = 100 # hidden size\n",
    "X = MNIST_train_samp   #(44800, 28*28)\n",
    "y = MNIST_train_label\n",
    "y = [[0, 1] if Y == 1 else (1, 0) for Y in y]   # make one hot\n",
    "y = np.array(y)\n",
    "\n",
    "Whh = randn(h, h) * 0.01    # (100, 100)\n",
    "Wxh = randn(X.shape[1], h) * 0.01  # (784, 100)\n",
    "Why = randn(h, y.shape[1]) * 0.01  # (100, 2)\n",
    "\n",
    "# forward_propagation\n",
    "XW = np.matmul(X, Wxh)\n",
    "hidden_1 = 1 / (1 + np.exp(-XW))\n",
    "\n",
    "hidden_1Whh = np.matmul(hidden_1, Whh)\n",
    "before_h2 = hidden_1Whh + XW\n",
    "hidden_2 = 1 / (1 + np.exp(-before_h2))\n",
    "\n",
    "hidden_2Whh = np.matmul(hidden_2, Whh)\n",
    "before_h3 = hidden_2Whh + XW\n",
    "hidden_3 = 1 / (1 + np.exp(-before_h3))\n",
    "\n",
    "y_preds = np.matmul(hidden_3, Why)  #(n, h) (h, 2)\n",
    "loss = np.square(y_preds - y).sum()\n",
    "\n",
    "# backward_propagation\n",
    "grad_y_preds = (y_preds - y) * 2.0  # n, 2\n",
    "grad_Why = np.matmul(hidden_3.T, grad_y_preds)  # (h, n) (n, 2) >> hidden_2\n",
    "grad_hidden_3 = np.matmul(grad_y_preds, Why.T)  # (n, 2) (2, h) >> nh\n",
    "grad_before_h3 = grad_hidden_3 * hidden_3 * (1 - hidden_3)   # (n, h)\n",
    "grad_hidden_2 = np.matmul(grad_before_h3, Whh.T)  #(n, h) (h, h) >> nh\n",
    "grad_Whh = np.matmul(hidden_2.T, grad_before_h3)  # (h, n) (n, h) >> (h, h)\n",
    "grad_X = np.matmul(grad_before_h3, Wxh.T)  # (n, h) (h, n) >> (n, n)\n",
    "grad_Wxh = np.matmul(X.T, grad_before_h3)  # (n, n) (n, h) >> (n, h)\n",
    "grad_before_h2 = grad_hidden_2 * hidden_2 * (1 - hidden_2)  # (n, h)\n",
    "grad_hidden_1 = np.matmul(grad_before_h2, Whh.T)  #(n, h)\n",
    "grad_Whh = grad_Whh + np.matmul(hidden_1.T, grad_before_h2)\n",
    "grad_Wxh = grad_Wxh + np.matmul(X.T, grad_before_h2)\n",
    "grad_Wxh = grad_Wxh + np.matmul(X.T, (grad_hidden_1 * hidden_1 * (1 - hidden_1))) # in, n * n\n",
    "# sigmoid(x) * (1-sigmoid(x))"
   ]
  },
  {
   "cell_type": "markdown",
   "id": "4421be3b",
   "metadata": {},
   "source": [
    "**Task 3:Implement the binary classifier nnclass(examplesA, examplesB, testExamples) that is trained with\n",
    "your implementation of (stochastic) GD and your gradient function using the network.**"
   ]
  },
  {
   "cell_type": "code",
   "execution_count": 7,
   "id": "2a983cc6",
   "metadata": {},
   "outputs": [],
   "source": [
    "class train(): \n",
    "    def __init__(self, Whh, Wxh, Why):\n",
    "        self.Whh = Whh\n",
    "        self.Wxh = Wxh\n",
    "        self.Why = Why\n",
    "        \n",
    "    def forward_pass(self, X):\n",
    "        self.X = X\n",
    "        self.XW = np.matmul(X, self.Wxh)\n",
    "        self.hidden_1 = 1 / (1 + np.exp(-self.XW))  # (n, h)\n",
    "        self.hidden_1_Whh = np.matmul(self.hidden_1, self.Whh)  # (n, h)\n",
    "        self.before_hidden_2 = self.hidden_1_Whh + self.XW  #(n, h)\n",
    "        self.hidden_2 = 1 / (1 + np.exp(-self.before_hidden_2))  # (n, h)\n",
    "        self.hidden_2_Whh = np.matmul(self.hidden_2, self.Whh)\n",
    "        self.before_hidden_3 = self.hidden_2_Whh + self.XW\n",
    "        self.hidden_3 = 1 / (1 + np.exp(-self.before_hidden_3))\n",
    "        self.y_preds = np.matmul(self.hidden_3, self.Why)   # (n, h) (h, 2)\n",
    "        \n",
    "        return self.y_preds\n",
    "    \n",
    "    def loss_function(self, y_preds, y):\n",
    "        self.y = y\n",
    "        self.loss = np.square(self.y_preds - self.y).sum()\n",
    "        \n",
    "        return self.loss\n",
    "    \n",
    "    def backward_pass(self):\n",
    "        self.grad_y_preds = (self.y_preds - self.y) * 2.0\n",
    "        self.grad_Why = np.matmul(self.hidden_3.T, self.grad_y_preds)  # (h, n) (n, 2) >> hidden_2\n",
    "        self.grad_hidden_3 = np.matmul(self.grad_y_preds, self.Why.T)  # (n, 2) (2, h) >> nh\n",
    "        self.grad_before_h3 = self.grad_hidden_3 * self.hidden_3 * (1 - self.hidden_3)   # (n, h)\n",
    "        self.grad_hidden_2 = np.matmul(self.grad_before_h3, self.Whh.T)  #(n, h) (h, h) >> nh\n",
    "        self.grad_Whh = np.matmul(self.hidden_2.T, self.grad_before_h3)  # (h, n) (n, h) >> (h, h)\n",
    "        #self.grad_X = np.matmul(self.grad_before_h3, self.Wxh.T)  # (n, h) (h, n) >> (n, n)\n",
    "        self.grad_Wxh = np.matmul(self.X.T, self.grad_before_h3)  # (n, n) (n, h) >> (n, h)\n",
    "        self.grad_before_h2 = self.grad_hidden_2 * self.hidden_2 * (1 - self.hidden_2)  # (n, h)\n",
    "        self.grad_hidden_1 = np.matmul(self.grad_before_h2, self.Whh.T)  #(n, h)\n",
    "        self.grad_Whh = self.grad_Whh + np.matmul(self.hidden_1.T, self.grad_before_h2)\n",
    "        self.grad_Wxh = self.grad_Wxh + np.matmul(self.X.T, self.grad_before_h2)\n",
    "        self.grad_Wxh = self.grad_Wxh + np.matmul(self.X.T, (self.grad_hidden_1 * self.hidden_1 * (1 - self.hidden_1))) # in, n * n\n",
    "        \n",
    "def nnclass(examplesA, examplesB, testExamples):\n",
    "    # batch_size and learning parameters\n",
    "    a_num = len(examplesA)\n",
    "    b_num = len(examplesB)\n",
    "    batch = 128\n",
    "    a_batch = int(128 * (a_num / (a_num + b_num)))\n",
    "    b_batch = batch - a_batch\n",
    "    iterations = (a_num + b_num) // 128 + 1 if (a_num + b_num) % 128 != 0 else (a_num + b_num) // 128\n",
    "    hidden = 100  # hidden layer width\n",
    "    learning_rate = 0.0001\n",
    "    epochs = 50\n",
    "    \n",
    "    # Initialising\n",
    "    Whh = randn(h, h) * 0.01\n",
    "    Wxh = randn(examplesA.shape[1], h) * 0.01  # 784, 100\n",
    "    Why = randn(h, 1) * 0.01  # 100, 2\n",
    "    model = train(Whh, Wxh, Why)\n",
    "    \n",
    "    for epoch in range(epochs):\n",
    "        for i in range(iterations):\n",
    "            if i == iterations - 1:\n",
    "                A_sub = examplesA[i * a_batch :]\n",
    "                B_sub = examplesB[i * b_batch :]\n",
    "            else:\n",
    "                A_sub = examplesA[i * a_batch : (i + 1) * a_batch]\n",
    "                B_sub = examplesB[i * b_batch : (i + 1) * b_batch]\n",
    "                \n",
    "            X = np.vstack([A_sub, B_sub])\n",
    "            y_zeros = (np.zeros(len(B_sub))[np.newaxis]).T\n",
    "            y_ones = (np.ones(len(A_sub))[np.newaxis]).T\n",
    "            y = np.vstack([y_ones, y_zeros])\n",
    "            \n",
    "            y_preds = model.forward_pass(X)\n",
    "            loss = (model.loss_function(y_preds, y))\n",
    "            model.backward_pass()\n",
    "            \n",
    "            # backward pass and optimizing\n",
    "            Whh -= learning_rate * model.grad_Whh\n",
    "            Wxh -= learning_rate * model.grad_Wxh\n",
    "            Why -= learning_rate * model.grad_Why\n",
    "        print(f\"{(epoch + 1)} / {epochs}, Loss value is: \", loss)\n",
    "        \n",
    "    # validation set\n",
    "    y_preds = model.forward_pass(testExamples)\n",
    "    y_preds = (y_preds >= 0.5) * 1\n",
    "    \n",
    "    return y_preds"
   ]
  },
  {
   "cell_type": "code",
   "execution_count": 8,
   "id": "37fa1b8e",
   "metadata": {},
   "outputs": [
    {
     "name": "stdout",
     "output_type": "stream",
     "text": [
      "1 / 50, Loss value is:  5.895711381737013\n",
      "2 / 50, Loss value is:  5.11010494780861\n",
      "3 / 50, Loss value is:  4.719286612011189\n",
      "4 / 50, Loss value is:  4.210346113198342\n",
      "5 / 50, Loss value is:  4.126657504275382\n",
      "6 / 50, Loss value is:  3.7891906865701928\n",
      "7 / 50, Loss value is:  3.5259686955431517\n",
      "8 / 50, Loss value is:  3.168074993515801\n",
      "9 / 50, Loss value is:  3.0199498129762317\n",
      "10 / 50, Loss value is:  2.866354756260951\n",
      "11 / 50, Loss value is:  2.7541943611675266\n",
      "12 / 50, Loss value is:  2.697630782365632\n",
      "13 / 50, Loss value is:  2.8332786801906176\n",
      "14 / 50, Loss value is:  2.544982077952598\n",
      "15 / 50, Loss value is:  2.543363889894092\n",
      "16 / 50, Loss value is:  2.417878030799562\n",
      "17 / 50, Loss value is:  2.4169433069351287\n",
      "18 / 50, Loss value is:  2.4115334191271316\n",
      "19 / 50, Loss value is:  2.34456983698386\n",
      "20 / 50, Loss value is:  2.3237632462846944\n",
      "21 / 50, Loss value is:  2.262886053422734\n",
      "22 / 50, Loss value is:  2.161211281018425\n",
      "23 / 50, Loss value is:  2.0244883406622627\n",
      "24 / 50, Loss value is:  1.9628207712758206\n",
      "25 / 50, Loss value is:  1.9442233215189666\n",
      "26 / 50, Loss value is:  1.9402264550350448\n",
      "27 / 50, Loss value is:  1.8932855475085475\n",
      "28 / 50, Loss value is:  1.8814263694980724\n",
      "29 / 50, Loss value is:  1.8538651136917208\n",
      "30 / 50, Loss value is:  1.8177905581944906\n",
      "31 / 50, Loss value is:  1.7783445430892135\n",
      "32 / 50, Loss value is:  1.7441064693441546\n",
      "33 / 50, Loss value is:  1.697255884707714\n",
      "34 / 50, Loss value is:  1.6584717171174397\n",
      "35 / 50, Loss value is:  1.6276968479485148\n",
      "36 / 50, Loss value is:  1.5801253752341444\n",
      "37 / 50, Loss value is:  1.5091234416448858\n",
      "38 / 50, Loss value is:  1.4903988357389706\n",
      "39 / 50, Loss value is:  1.471457744769\n",
      "40 / 50, Loss value is:  1.451657705973587\n",
      "41 / 50, Loss value is:  1.4360213687601586\n",
      "42 / 50, Loss value is:  1.4138023865840113\n",
      "43 / 50, Loss value is:  1.3930115303819282\n",
      "44 / 50, Loss value is:  1.3787525923700377\n",
      "45 / 50, Loss value is:  1.3553882702339428\n",
      "46 / 50, Loss value is:  1.331218543905351\n",
      "47 / 50, Loss value is:  1.3085084364585076\n",
      "48 / 50, Loss value is:  1.2897598655962392\n",
      "49 / 50, Loss value is:  1.2712562286484703\n",
      "50 / 50, Loss value is:  1.2564605594836522\n",
      "Accuracy value is:  0.9955714285714286\n"
     ]
    }
   ],
   "source": [
    "train_one = (MNIST_train_samp[MNIST_train_label == 1])\n",
    "train_non_one = (MNIST_train_samp[MNIST_train_label != 1])\n",
    "predictions_1 = nnclass(train_one, train_non_one, MNIST_val_samp)\n",
    "ground_truth = MNIST_val_label\n",
    "ground_truth = [1 if y == 1 else 0 for y in ground_truth]\n",
    "print(\"Accuracy value is: \", accuracy_score(ground_truth, predictions_1))"
   ]
  },
  {
   "cell_type": "markdown",
   "id": "445f5f9a",
   "metadata": {},
   "source": [
    "**Task 4: Do an analysis how changes of n affect the accuracy with MNIST. Positive labels are assigned to digit 1 and negative samples to other digits. Write not longer than fifteen sentences. A table and / or plot is\n",
    "welcome.**"
   ]
  },
  {
   "cell_type": "code",
   "execution_count": 9,
   "id": "966e865f",
   "metadata": {},
   "outputs": [],
   "source": [
    "np.random.seed(0)\n",
    "\n",
    "class train(): \n",
    "    def __init__(self, input_dim, n):\n",
    "        self.Whh = randn(h, h) * 0.01  # (100, 100)\n",
    "        self.Wxh = randn(input_dim, h) * 0.01 #  (784, 100)\n",
    "        self.Why = randn(h, 1) * 0.01  #(100, 2)\n",
    "        self.grad_Whh = np.zeros(self.Whh.shape)\n",
    "        self.grad_Wxh = np.zeros(self.Wxh.shape)\n",
    "        self.n = n\n",
    "        self.h = [0] * n\n",
    "        self.grad_h = [0] * n\n",
    "        \n",
    "    def forward_pass(self, X):\n",
    "        self.X = X\n",
    "        self.XW = np.matmul(X, self.Wxh)\n",
    "        self.h[0] = 1 / (1 + np.exp(-self.XW))  # (n, h)\n",
    "        for i in range(self.n - 1):\n",
    "            self.before_hidden = np.matmul(self.h[i], self.Whh) + self.XW  # (n, h)\n",
    "            self.h[i + 1] = 1 / (1 + np.exp(-self.before_hidden))   # (n, h)\n",
    "        self.y_preds = np.matmul(self.h[-1], self.Why)  # (n, h) (h, 2)\n",
    "        \n",
    "        return self.y_preds\n",
    "                           \n",
    "    def loss_function(self, y_preds, y):\n",
    "        self.y = y\n",
    "        self.loss = np.square(self.y_preds - self.y).sum()\n",
    "        \n",
    "        return self.loss\n",
    "    \n",
    "    def backward_pass(self):\n",
    "        self.grad_y_preds = (self.y_preds - self.y) * 2.0   # (n, 2)\n",
    "        self.grad_Why = np.matmul(self.h[-1].T, self.grad_y_preds)  # (h, n) (n, 2) >> hidden_2\n",
    "        self.grad_h[-1] = np.matmul(self.grad_y_preds, self.Why.T)  # (n, 2) (2, h) >> nh\n",
    "        for i in range(self.n - 1):\n",
    "            self.grad_before_h = self.grad_h[-i - 1] * self.h[-i - 1] * (1 - self.h[-i - 1])   # (n, h)\n",
    "            self.grad_h[-i - 2] = np.matmul(self.grad_before_h, self.Whh.T)  #(n, h) (h, h) >> nh\n",
    "            self.grad_Whh += np.matmul(self.h[-i - 2].T, self.grad_before_h)  # (h, n) (n, h) >> (h, h)\n",
    "            self.grad_Wxh += np.matmul(self.X.T, self.grad_before_h)  # (n, n) (n, h) >> (n, h)\n",
    "            \n",
    "        self.grad_Wxh = self.grad_Wxh + np.matmul(self.X.T, (self.grad_h[0] * self.h[0] * (1 - self.h[0]))) # in, n * n\n",
    "        \n",
    "def nnclass(examplesA, examplesB, testExamples, n):\n",
    "    # batch_size and learning parameters\n",
    "    a_num = len(examplesA)\n",
    "    b_num = len(examplesB)\n",
    "    batch = 128\n",
    "    a_batch = int(128 * (a_num / (a_num + b_num)))\n",
    "    b_batch = batch - a_batch\n",
    "    iterations = (a_num + b_num) // 128 + 1 if (a_num + b_num) % 128 != 0 else (a_num + b_num) // 128\n",
    "    hidden = 100  # hidden layer width\n",
    "    learning_rate = 0.0001\n",
    "    epochs = 3\n",
    "    \n",
    "    # Initialising\n",
    "    input_dims = examplesA.shape[1]\n",
    "    n = n\n",
    "    model = train(input_dims, n)\n",
    "    \n",
    "    for epoch in range(epochs):\n",
    "        for i in range(iterations):\n",
    "            if i == iterations - 1:\n",
    "                A_sub = examplesA[i * a_batch :]\n",
    "                B_sub = examplesB[i * b_batch :]\n",
    "            else:\n",
    "                A_sub = examplesA[i * a_batch : (i + 1) * a_batch]\n",
    "                B_sub = examplesB[i * b_batch : (i + 1) * b_batch]\n",
    "                \n",
    "            X = np.vstack([A_sub, B_sub])\n",
    "            y_zeros = (np.zeros(len(B_sub))[np.newaxis]).T\n",
    "            y_ones = (np.ones(len(A_sub))[np.newaxis]).T\n",
    "            y = np.vstack([y_ones, y_zeros])\n",
    "            \n",
    "            y_preds = model.forward_pass(X)\n",
    "            loss = (model.loss_function(y_preds, y))\n",
    "            model.backward_pass()\n",
    "            \n",
    "            # backward pass and optimizing\n",
    "            model.Whh -= learning_rate * model.grad_Whh\n",
    "            model.Wxh -= learning_rate * model.grad_Wxh\n",
    "            model.Why -= learning_rate * model.grad_Why\n",
    "        print(f\"{(epoch + 1)} / {epochs}, Loss value is: \", loss)\n",
    "        \n",
    "    # validation set\n",
    "    y_preds = model.forward_pass(testExamples)\n",
    "    y_preds = (y_preds >= 0.5) * 1\n",
    "    \n",
    "    return y_preds"
   ]
  },
  {
   "cell_type": "code",
   "execution_count": 10,
   "id": "ae9dd1b9",
   "metadata": {
    "scrolled": true
   },
   "outputs": [
    {
     "name": "stderr",
     "output_type": "stream",
     "text": [
      "<ipython-input-9-dd70f8065fce>:17: RuntimeWarning: overflow encountered in exp\n",
      "  self.h[0] = 1 / (1 + np.exp(-self.XW))  # (n, h)\n"
     ]
    },
    {
     "name": "stdout",
     "output_type": "stream",
     "text": [
      "1 / 3, Loss value is:  5.979318658450309\n",
      "2 / 3, Loss value is:  5.726019403721526\n",
      "3 / 3, Loss value is:  5.832826609622479\n",
      "Accuracy value is:  0.9911428571428571 for n = 1\n"
     ]
    },
    {
     "name": "stderr",
     "output_type": "stream",
     "text": [
      "<ipython-input-9-dd70f8065fce>:17: RuntimeWarning: overflow encountered in exp\n",
      "  self.h[0] = 1 / (1 + np.exp(-self.XW))  # (n, h)\n",
      "<ipython-input-9-dd70f8065fce>:20: RuntimeWarning: overflow encountered in exp\n",
      "  self.h[i + 1] = 1 / (1 + np.exp(-self.before_hidden))   # (n, h)\n"
     ]
    },
    {
     "name": "stdout",
     "output_type": "stream",
     "text": [
      "1 / 3, Loss value is:  6.998425083023923\n",
      "2 / 3, Loss value is:  5.6463530383573115\n",
      "3 / 3, Loss value is:  6.18876725777624\n",
      "Accuracy value is:  0.9895714285714285 for n = 2\n"
     ]
    },
    {
     "name": "stderr",
     "output_type": "stream",
     "text": [
      "<ipython-input-9-dd70f8065fce>:17: RuntimeWarning: overflow encountered in exp\n",
      "  self.h[0] = 1 / (1 + np.exp(-self.XW))  # (n, h)\n",
      "<ipython-input-9-dd70f8065fce>:20: RuntimeWarning: overflow encountered in exp\n",
      "  self.h[i + 1] = 1 / (1 + np.exp(-self.before_hidden))   # (n, h)\n"
     ]
    },
    {
     "name": "stdout",
     "output_type": "stream",
     "text": [
      "1 / 3, Loss value is:  6.118331995007262\n",
      "2 / 3, Loss value is:  6.661888257287453\n",
      "3 / 3, Loss value is:  5.659985532208972\n",
      "Accuracy value is:  0.9901428571428571 for n = 3\n"
     ]
    },
    {
     "name": "stderr",
     "output_type": "stream",
     "text": [
      "<ipython-input-9-dd70f8065fce>:17: RuntimeWarning: overflow encountered in exp\n",
      "  self.h[0] = 1 / (1 + np.exp(-self.XW))  # (n, h)\n",
      "<ipython-input-9-dd70f8065fce>:20: RuntimeWarning: overflow encountered in exp\n",
      "  self.h[i + 1] = 1 / (1 + np.exp(-self.before_hidden))   # (n, h)\n"
     ]
    },
    {
     "name": "stdout",
     "output_type": "stream",
     "text": [
      "1 / 3, Loss value is:  6.004737948532997\n",
      "2 / 3, Loss value is:  6.340923286020731\n",
      "3 / 3, Loss value is:  6.447536383797779\n",
      "Accuracy value is:  0.991 for n = 4\n"
     ]
    },
    {
     "name": "stderr",
     "output_type": "stream",
     "text": [
      "<ipython-input-9-dd70f8065fce>:17: RuntimeWarning: overflow encountered in exp\n",
      "  self.h[0] = 1 / (1 + np.exp(-self.XW))  # (n, h)\n",
      "<ipython-input-9-dd70f8065fce>:20: RuntimeWarning: overflow encountered in exp\n",
      "  self.h[i + 1] = 1 / (1 + np.exp(-self.before_hidden))   # (n, h)\n"
     ]
    },
    {
     "name": "stdout",
     "output_type": "stream",
     "text": [
      "1 / 3, Loss value is:  6.055116025014176\n",
      "2 / 3, Loss value is:  6.425108303170878\n",
      "3 / 3, Loss value is:  6.227924971020729\n",
      "Accuracy value is:  0.9901428571428571 for n = 9\n"
     ]
    },
    {
     "name": "stderr",
     "output_type": "stream",
     "text": [
      "<ipython-input-9-dd70f8065fce>:17: RuntimeWarning: overflow encountered in exp\n",
      "  self.h[0] = 1 / (1 + np.exp(-self.XW))  # (n, h)\n",
      "<ipython-input-9-dd70f8065fce>:20: RuntimeWarning: overflow encountered in exp\n",
      "  self.h[i + 1] = 1 / (1 + np.exp(-self.before_hidden))   # (n, h)\n"
     ]
    },
    {
     "name": "stdout",
     "output_type": "stream",
     "text": [
      "1 / 3, Loss value is:  6.321797310857083\n",
      "2 / 3, Loss value is:  5.329516900257527\n",
      "3 / 3, Loss value is:  5.158106995888094\n",
      "Accuracy value is:  0.9898571428571429 for n = 22\n"
     ]
    },
    {
     "name": "stderr",
     "output_type": "stream",
     "text": [
      "<ipython-input-9-dd70f8065fce>:17: RuntimeWarning: overflow encountered in exp\n",
      "  self.h[0] = 1 / (1 + np.exp(-self.XW))  # (n, h)\n",
      "<ipython-input-9-dd70f8065fce>:20: RuntimeWarning: overflow encountered in exp\n",
      "  self.h[i + 1] = 1 / (1 + np.exp(-self.before_hidden))   # (n, h)\n"
     ]
    },
    {
     "name": "stdout",
     "output_type": "stream",
     "text": [
      "1 / 3, Loss value is:  6.762369260267522\n",
      "2 / 3, Loss value is:  6.7410782628365675\n",
      "3 / 3, Loss value is:  5.790815471566203\n",
      "Accuracy value is:  0.9901428571428571 for n = 38\n"
     ]
    },
    {
     "name": "stderr",
     "output_type": "stream",
     "text": [
      "<ipython-input-9-dd70f8065fce>:17: RuntimeWarning: overflow encountered in exp\n",
      "  self.h[0] = 1 / (1 + np.exp(-self.XW))  # (n, h)\n",
      "<ipython-input-9-dd70f8065fce>:20: RuntimeWarning: overflow encountered in exp\n",
      "  self.h[i + 1] = 1 / (1 + np.exp(-self.before_hidden))   # (n, h)\n"
     ]
    },
    {
     "name": "stdout",
     "output_type": "stream",
     "text": [
      "1 / 3, Loss value is:  6.617513489883052\n",
      "2 / 3, Loss value is:  5.812519016471316\n",
      "3 / 3, Loss value is:  6.612671476686701\n",
      "Accuracy value is:  0.9904285714285714 for n = 45\n"
     ]
    },
    {
     "name": "stderr",
     "output_type": "stream",
     "text": [
      "<ipython-input-9-dd70f8065fce>:17: RuntimeWarning: overflow encountered in exp\n",
      "  self.h[0] = 1 / (1 + np.exp(-self.XW))  # (n, h)\n",
      "<ipython-input-9-dd70f8065fce>:20: RuntimeWarning: overflow encountered in exp\n",
      "  self.h[i + 1] = 1 / (1 + np.exp(-self.before_hidden))   # (n, h)\n"
     ]
    },
    {
     "name": "stdout",
     "output_type": "stream",
     "text": [
      "1 / 3, Loss value is:  6.477638672149377\n",
      "2 / 3, Loss value is:  5.125954266052716\n",
      "3 / 3, Loss value is:  5.446108015289759\n",
      "Accuracy value is:  0.9892857142857143 for n = 63\n"
     ]
    },
    {
     "name": "stderr",
     "output_type": "stream",
     "text": [
      "<ipython-input-9-dd70f8065fce>:17: RuntimeWarning: overflow encountered in exp\n",
      "  self.h[0] = 1 / (1 + np.exp(-self.XW))  # (n, h)\n",
      "<ipython-input-9-dd70f8065fce>:20: RuntimeWarning: overflow encountered in exp\n",
      "  self.h[i + 1] = 1 / (1 + np.exp(-self.before_hidden))   # (n, h)\n"
     ]
    },
    {
     "name": "stdout",
     "output_type": "stream",
     "text": [
      "1 / 3, Loss value is:  6.271953409191169\n",
      "2 / 3, Loss value is:  6.235465447767364\n",
      "3 / 3, Loss value is:  6.329997031069915\n",
      "Accuracy value is:  0.9907142857142858 for n = 76\n"
     ]
    },
    {
     "name": "stderr",
     "output_type": "stream",
     "text": [
      "<ipython-input-9-dd70f8065fce>:17: RuntimeWarning: overflow encountered in exp\n",
      "  self.h[0] = 1 / (1 + np.exp(-self.XW))  # (n, h)\n",
      "<ipython-input-9-dd70f8065fce>:20: RuntimeWarning: overflow encountered in exp\n",
      "  self.h[i + 1] = 1 / (1 + np.exp(-self.before_hidden))   # (n, h)\n"
     ]
    },
    {
     "name": "stdout",
     "output_type": "stream",
     "text": [
      "1 / 3, Loss value is:  6.05017708841966\n",
      "2 / 3, Loss value is:  6.35800003998343\n",
      "3 / 3, Loss value is:  5.773969416134753\n",
      "Accuracy value is:  0.9912857142857143 for n = 81\n"
     ]
    },
    {
     "name": "stderr",
     "output_type": "stream",
     "text": [
      "<ipython-input-9-dd70f8065fce>:17: RuntimeWarning: overflow encountered in exp\n",
      "  self.h[0] = 1 / (1 + np.exp(-self.XW))  # (n, h)\n",
      "<ipython-input-9-dd70f8065fce>:20: RuntimeWarning: overflow encountered in exp\n",
      "  self.h[i + 1] = 1 / (1 + np.exp(-self.before_hidden))   # (n, h)\n"
     ]
    },
    {
     "name": "stdout",
     "output_type": "stream",
     "text": [
      "1 / 3, Loss value is:  5.636851576269255\n",
      "2 / 3, Loss value is:  7.044146817417235\n",
      "3 / 3, Loss value is:  6.351620750532439\n",
      "Accuracy value is:  0.9897142857142858 for n = 94\n"
     ]
    },
    {
     "name": "stderr",
     "output_type": "stream",
     "text": [
      "<ipython-input-9-dd70f8065fce>:17: RuntimeWarning: overflow encountered in exp\n",
      "  self.h[0] = 1 / (1 + np.exp(-self.XW))  # (n, h)\n",
      "<ipython-input-9-dd70f8065fce>:20: RuntimeWarning: overflow encountered in exp\n",
      "  self.h[i + 1] = 1 / (1 + np.exp(-self.before_hidden))   # (n, h)\n"
     ]
    },
    {
     "name": "stdout",
     "output_type": "stream",
     "text": [
      "1 / 3, Loss value is:  5.82789809266329\n",
      "2 / 3, Loss value is:  6.921442680978842\n",
      "3 / 3, Loss value is:  6.332761710173156\n",
      "Accuracy value is:  0.9908571428571429 for n = 100\n"
     ]
    }
   ],
   "source": [
    "train_one = (MNIST_train_samp[MNIST_train_label == 1])\n",
    "train_non_one = (MNIST_train_samp[MNIST_train_label != 1])\n",
    "accuracy_list = []\n",
    "n_list = [1, 2, 3, 4, 9, 22, 38, 45, 63, 76, 81, 94, 100]\n",
    "for n in (n_list):\n",
    "    predictions_2 = nnclass(train_one, train_non_one, MNIST_val_samp, n)\n",
    "    accuracy = accuracy_score(ground_truth, predictions_2)\n",
    "    print(\"Accuracy value is: \", accuracy, f\"for n = {n}\")\n",
    "    accuracy_list.append(accuracy)"
   ]
  },
  {
   "cell_type": "code",
   "execution_count": 11,
   "id": "7159455b",
   "metadata": {},
   "outputs": [
    {
     "data": {
      "image/png": "[encoded data removed]",
      "text/plain": [
       "<Figure size 432x288 with 1 Axes>"
      ]
     },
     "metadata": {
      "needs_background": "light"
     },
     "output_type": "display_data"
    }
   ],
   "source": [
    "plt.plot(n_list, accuracy_list)\n",
    "plt.xlabel(\"n\")\n",
    "plt.ylabel(\"Accuracy\")\n",
    "plt.show()"
   ]
  },
  {
   "cell_type": "markdown",
   "id": "3309fec3",
   "metadata": {},
   "source": [
    "|  n   |     Accuracy     \n",
    "|:----:|:----------------:|  \n",
    "|  1   |0.9911428571428571|\n",
    "|  2   |0.9895714285714285|\n",
    "|  3   |0.9901428571428571|\n",
    "|  4   |       0.991      |\n",
    "|  9   |0.9901428571428571|\n",
    "|  22  |0.9898571428571429|\n",
    "|  38  |0.9901428571428571|\n",
    "|  45  |0.9904285714285714|\n",
    "|  63  |0.9892857142857143|\n",
    "|  76  |0.9907142857142858|\n",
    "|  81  |0.9912857142857143|\n",
    "|  94  |0.9897142857142858|\n",
    "|  100 |0.9908571428571429|\n",
    "\n",
    "**Answer:** **As shown above the figure, the number of hidden states do not significantly affect the accuracy on the test.** Many layers or wide hidden size seems ideal to allow giving better results. However, these mean that can exercise and use more function for training or testing. If the neural network uses more functions, it is more complex, which results in overfitting to the data and spends lots of time. The number of data was given constant during this project and the number of data should be sufficient samples to train and test in the network to get higher accuracy if the hidden states increase. Therefore, the accuracy might depend on proper the number of hidden states (to avoid over/under-fitting) and also depend on the quality of the model, which means the quantity and size of the training sample or data."
   ]
  },
  {
   "cell_type": "code",
   "execution_count": null,
   "id": "10408ce9",
   "metadata": {},
   "outputs": [],
   "source": []
  }
 ],
 "metadata": {
  "kernelspec": {
   "display_name": "Python 3",
   "language": "python",
   "name": "python3"
  },
  "language_info": {
   "codemirror_mode": {
    "name": "ipython",
    "version": 3
   },
   "file_extension": ".py",
   "mimetype": "text/x-python",
   "name": "python",
   "nbconvert_exporter": "python",
   "pygments_lexer": "ipython3",
   "version": "3.8.8"
  }
 },
 "nbformat": 4,
 "nbformat_minor": 5
}
