{
 "cells": [
  {
   "cell_type": "markdown",
   "metadata": {},
   "source": [
    "# LINEAR CLASSIFICATION"
   ]
  },
  {
   "cell_type": "markdown",
   "metadata": {},
   "source": [
    "#####  All algorithms were designed by Hyungjoo Kim and Dataset was provided at UCL"
   ]
  },
  {
   "cell_type": "code",
   "execution_count": 69,
   "metadata": {},
   "outputs": [],
   "source": [
    "import numpy as np\n",
    "import matplotlib.pyplot as plt\n",
    "\n",
    "from numpy.linalg import inv\n",
    "from sklearn.metrics import accuracy_score\n",
    "from sklearn.metrics import confusion_matrix"
   ]
  },
  {
   "cell_type": "code",
   "execution_count": 52,
   "metadata": {},
   "outputs": [],
   "source": [
    "# Class\n",
    "# Iris Setosa for label 0, Iris Versicolour label 1, Iris Virginica for label 2\n",
    "train_label = np.load('./IRIS/iris_train_labels.npy') # [2 1 1 0 2 2 2 0 1...] (96,)\n",
    "train_samp = np.load('./IRIS/iris_train_samples.npy') # (96,4) sepal length, sepal width, petal length, petal width\n",
    "val_label = np.load('./IRIS/iris_val_labels.npy')\n",
    "val_samp = np.load('./IRIS/iris_val_samples.npy')\n",
    "\n",
    "MNIST_train_label = np.load('./MNIST/mnist_train_labels.npy')\n",
    "MNIST_train_samp = np.load('./MNIST/mnist_train_samples.npy')  # (44800, 28*28)\n",
    "MNIST_val_label = np.load('./MNIST/mnist_val_labels.npy')\n",
    "MNIST_val_samp = np.load('./MNIST/mnist_val_samples.npy')"
   ]
  },
  {
   "cell_type": "markdown",
   "metadata": {},
   "source": [
    "**Task 1: Implement the normal equation-based binary linear classifier lcass(examplesA, examplesB, testExamples) where the first two arguments are the set of samples from class A and class B respectively and the third is the test. The function should return a vector of 0s and 1s, 0 if test is in A and 1 otherwise. It should, for simplicity, both train and test in one function call.**"
   ]
  },
  {
   "cell_type": "code",
   "execution_count": 53,
   "metadata": {},
   "outputs": [],
   "source": [
    "def L_Class(examplesA, examplesB, testExamples):\n",
    "    # Combied the example A and the example B in one matrix\n",
    "    stacked_examples = np.vstack([examplesA, examplesB])\n",
    "    make_one_axis = np.ones(len(stacked_examples))[np.newaxis].T\n",
    "    x = np.hstack([stacked_examples, make_one_axis])\n",
    "    \n",
    "    y_zeros = np.zeros(len(examplesA))[np.newaxis].T\n",
    "    y_ones = np.ones(len(examplesB))[np.newaxis].T\n",
    "    y = np.vstack([y_zeros, y_ones])\n",
    "    \n",
    "    xt = x.T\n",
    "    xtx = np.matmul(x.T, x)\n",
    "    xty = np.matmul(x.T, y)\n",
    "    w = np.matmul(inv(xtx), xty)\n",
    "    \n",
    "    # Return 0 if the test is for A and 1 otherwise\n",
    "    ones_for_test = (np.ones(len(testExamples))[np.newaxis]).T\n",
    "    y_hat = np.squeeze(np.matmul(np.hstack([testExamples, ones_for_test]), w))\n",
    "    for i in range(len(y_hat)):\n",
    "        if y_hat[i] < 0:\n",
    "            y_hat[i] = 0\n",
    "        elif y_hat[i] > 1:\n",
    "            y_hat[i] = 1\n",
    "            \n",
    "    prediction = (y_hat >= 0.5) * 1  # If the class is bigger than 0, then make 1\n",
    "    return y_hat, prediction"
   ]
  },
  {
   "cell_type": "markdown",
   "metadata": {},
   "source": [
    "**Task 2: Test this on all the samples in IRIS, Setosa vs non-Setosa, etc and propose a simple analysis (text, figure, table) of the result you find, but not longer than ten sentences.**"
   ]
  },
  {
   "cell_type": "code",
   "execution_count": 54,
   "metadata": {},
   "outputs": [
    {
     "data": {
      "image/png": "[encoded data removed]",
      "text/plain": [
       "<Figure size 432x288 with 1 Axes>"
      ]
     },
     "metadata": {
      "needs_background": "light"
     },
     "output_type": "display_data"
    },
    {
     "name": "stdout",
     "output_type": "stream",
     "text": [
      "[0 0 1 1 1 1 1 1 0 0 1 1 0 1 1]\n",
      "[0 0 1 1 1 1 1 1 0 0 1 1 0 1 1]\n",
      "Accuracy is  1.0\n",
      "Correlation coefficient is 1.0\n"
     ]
    },
    {
     "data": {
      "image/png": "[encoded data removed]",
      "text/plain": [
       "<Figure size 432x288 with 1 Axes>"
      ]
     },
     "metadata": {
      "needs_background": "light"
     },
     "output_type": "display_data"
    },
    {
     "name": "stdout",
     "output_type": "stream",
     "text": [
      "[0.13325066 0.00499844 1.         1.         0.88565864 0.95262479\n",
      " 1.         0.90161499 0.20944987 0.18016883 0.99310477 0.9387944\n",
      " 0.         1.         0.71587549]\n",
      "[0 0 1 1 1 1 1 1 0 0 1 1 0 1 1]\n",
      "Correlation coefficient is 0.9769654030440618\n"
     ]
    }
   ],
   "source": [
    "setosa = (train_samp[train_label == 0])\n",
    "non_setosa = (train_samp[train_label != 0])\n",
    "y_hat, prediction = L_Class(setosa, non_setosa, val_samp)\n",
    "ground_truth = (val_label != 0) * 1  # If val_label is not 0, then make 1 \n",
    "\n",
    "plt.scatter(ground_truth, prediction, color = 'red')\n",
    "plt.xlabel(\"Ground_Truth\")\n",
    "plt.ylabel(\"Prediction\")\n",
    "plt.title('Test between pred algorithm and ground truth')\n",
    "plt.show()\n",
    "print(prediction)\n",
    "print(ground_truth)\n",
    "print(\"Accuracy is \", accuracy_score(ground_truth, prediction))  # 100% accuracy => Excellent!!\n",
    "print(\"Correlation coefficient is\", np.corrcoef(ground_truth, prediction)[0, 1]) # 100% correlation => Excellent!!\n",
    "\n",
    "plt.scatter(ground_truth, y_hat, color = 'blue')\n",
    "plt.xlabel(\"Ground_Truth\")\n",
    "plt.ylabel(\"Prediction\")\n",
    "plt.title('Test between y_hat2 (prediction) algorithm and ground truth')\n",
    "plt.show()\n",
    "print(y_hat)\n",
    "print(ground_truth)\n",
    "print(\"Correlation coefficient is\", np.corrcoef(ground_truth, y_hat)[0, 1]) # 97.7% => Great!!"
   ]
  },
  {
   "cell_type": "markdown",
   "metadata": {},
   "source": [
    "**Answer:**  *'prediction' is defined that the value should be 1 when the prediction value (y_hat) is bigger than 0.5, and ground_truth is defined that test label (val_label) has 0 for Setosa, 1 for Versicolour and 2 for Virginica and if the test label is not 0, then those values are 1. Therefore, the test label has only 0 and 1 cases. Afterwards, comparing between 'prediction' and 'ground_truth' are exactly same and accuracy gives **100%**. On the other hand, 'y_hat' is defined when the prediction value is less than 0 or bigger than 1, the value becomes offset, so they make 0 and 1, respectively. Thus, these prediction values gives slightly different with the ground truth value as shown above matrics. Correlation cefficient between prediction (y_hat) and ground truth is*  **97.7%**."
   ]
  },
  {
   "cell_type": "markdown",
   "metadata": {},
   "source": [
    "**Task 3: Perform independent research how to do multi-class classification. Implement lmclass(examples, class, testExamples) that performs multi-class classification of the examples according to the vector of labels class of the same size and test it with testExamples by returning a matrix, where each row express the probability of a sample in testExamples to belong to each class.**"
   ]
  },
  {
   "cell_type": "code",
   "execution_count": 83,
   "metadata": {},
   "outputs": [],
   "source": [
    "def LM_Class(examples, classes, testExamples):\n",
    "    unique_class = set(classes)  # Remove overlapping classes for using 'set' variable\n",
    "    l_class_list = []  # Record the values in this array\n",
    "    for cla in unique_class:\n",
    "        in_samples = examples[classes == cla]\n",
    "        out_samples = examples[classes != cla]\n",
    "        l_class_list.append(L_Class(in_samples, out_samples, testExamples))\n",
    "        \n",
    "    probability_list = []\n",
    "    for i in range(len(l_class_list)):\n",
    "        # 1 - value because we need to get the probability \n",
    "        # and [0] means y_hat, not as prediction\n",
    "        for_minus_one = 1 - l_class_list[i][0]\n",
    "        probability_list.append(for_minus_one[np.newaxis].T)\n",
    "    probabilities = np.hstack(probability_list)\n",
    "    print(probabilities)\n",
    "    return probabilities"
   ]
  },
  {
   "cell_type": "code",
   "execution_count": 84,
   "metadata": {},
   "outputs": [
    {
     "name": "stdout",
     "output_type": "stream",
     "text": [
      "[[0.86674934 0.16735048 0.        ]\n",
      " [0.99500156 0.06678892 0.        ]\n",
      " [0.         0.6652941  0.78209051]\n",
      " [0.         0.23213096 0.81268143]\n",
      " [0.11434136 0.39509938 0.49055926]\n",
      " [0.04737521 0.28373455 0.66889023]\n",
      " [0.         0.68470713 0.56910057]\n",
      " [0.09838501 0.46967234 0.43194266]\n",
      " [0.79055013 0.36770249 0.        ]\n",
      " [0.81983117 0.29827212 0.        ]\n",
      " [0.00689523 0.19741913 0.79568565]\n",
      " [0.0612056  0.17494773 0.76384667]\n",
      " [1.         0.         0.00106889]\n",
      " [0.         0.35242413 0.8188674 ]\n",
      " [0.28412451 0.35950296 0.35637253]]\n",
      "[0 0 2 2 2 2 1 1 0 0 2 2 0 2 1]\n",
      "[0 0 2 2 1 2 2 1 0 0 2 2 0 2 1]\n"
     ]
    }
   ],
   "source": [
    "probs = LM_Class(train_samp, train_label, val_samp)\n",
    "predictions = []\n",
    "for i in range(len(probs)):\n",
    "    predictions.append(np.argmax(probs[i], axis = 0))\n",
    "    \n",
    "predictions = np.squeeze(predictions)\n",
    "print(predictions)\n",
    "print(val_label)"
   ]
  },
  {
   "cell_type": "markdown",
   "metadata": {},
   "source": [
    "**Task 4: Present findings applying multi-class classification on IRIS dataset with 3 classes. You can include figures and tables if needed. Write no longer than ten sentences.**"
   ]
  },
  {
   "cell_type": "code",
   "execution_count": 70,
   "metadata": {},
   "outputs": [
    {
     "name": "stdout",
     "output_type": "stream",
     "text": [
      "[[5 0 0]\n",
      " [0 2 1]\n",
      " [0 1 6]]\n",
      "Accuracy is 0.8666666666666667\n"
     ]
    }
   ],
   "source": [
    "print(confusion_matrix(val_label, predictions))\n",
    "print(\"Accuracy is\", accuracy_score(val_label, predictions))"
   ]
  },
  {
   "cell_type": "markdown",
   "metadata": {},
   "source": [
    "|     |      |     |preds|     |\n",
    "|:---:|:----:|:---:|:---:|:---:|  \n",
    "|     |      |  0  |  1  |  2  |\n",
    "|     |  0   |  5  |  0  |  0  |\n",
    "|val_ |  1   |  0  |  2  |  1  |\n",
    "|label|  2   |  0  |  1  |  6  |\n",
    "\n",
    "**Answer:** *In the val_label and pred_list list, they are composed of 0 for Setosa, 1 for Versicolour and 2 for Virginica. Comparing between those list by the above matrix, (1, 1), (2, 2) and (3, 3) means the label of preds and test data are consensus e.g. 00, 11 and 22, respectively. It means that the accuracy of those values is correct. For example, (2, 3) and (3, 2) represent 1, which means that the label of preds is 1, but the label of the test is 2. Thus, among the 15 test samples, 13 of the predicted values were correct and 2 were incorrect, which is same as using the value of accuracy_score above.* **(13/15 = 0.867 => 86.7%)** "
   ]
  },
  {
   "cell_type": "code",
   "execution_count": null,
   "metadata": {},
   "outputs": [],
   "source": []
  }
 ],
 "metadata": {
  "kernelspec": {
   "display_name": "Python 3",
   "language": "python",
   "name": "python3"
  },
  "language_info": {
   "codemirror_mode": {
    "name": "ipython",
    "version": 3
   },
   "file_extension": ".py",
   "mimetype": "text/x-python",
   "name": "python",
   "nbconvert_exporter": "python",
   "pygments_lexer": "ipython3",
   "version": "3.8.5"
  }
 },
 "nbformat": 4,
 "nbformat_minor": 4
}
